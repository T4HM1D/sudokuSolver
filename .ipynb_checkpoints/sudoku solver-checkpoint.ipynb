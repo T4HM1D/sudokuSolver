{
 "cells": [
  {
   "cell_type": "code",
   "execution_count": 1,
   "metadata": {},
   "outputs": [],
   "source": [
    "import numpy as np"
   ]
  },
  {
   "cell_type": "code",
   "execution_count": 2,
   "metadata": {},
   "outputs": [],
   "source": [
    "array = [[8,4,7,0,0,6,0,1,9],\n",
    "         [1,6,9,4,2,7,0,5,8],\n",
    "         [0,0,0,9,0,0,0,4,0],\n",
    "         [0,0,0,0,5,9,7,0,6],\n",
    "         [2,0,6,3,4,8,0,9,5],\n",
    "         [9,0,0,7,6,0,0,8,0],\n",
    "         [6,0,8,2,0,3,0,7,0],\n",
    "         [0,2,0,0,0,0,8,3,1],\n",
    "         [4,1,3,0,0,5,0,6,2]]"
   ]
  },
  {
   "cell_type": "code",
   "execution_count": 3,
   "metadata": {},
   "outputs": [
    {
     "name": "stdout",
     "output_type": "stream",
     "text": [
      "[[8, 4, 7, 0, 0, 6, 0, 1, 9], [1, 6, 9, 4, 2, 7, 0, 5, 8], [0, 0, 0, 9, 0, 0, 0, 4, 0], [0, 0, 0, 0, 5, 9, 7, 0, 6], [2, 0, 6, 3, 4, 8, 0, 9, 5], [9, 0, 0, 7, 6, 0, 0, 8, 0], [6, 0, 8, 2, 0, 3, 0, 7, 0], [0, 2, 0, 0, 0, 0, 8, 3, 1], [4, 1, 3, 0, 0, 5, 0, 6, 2]]\n"
     ]
    }
   ],
   "source": [
    "print(array)"
   ]
  },
  {
   "cell_type": "code",
   "execution_count": 4,
   "metadata": {},
   "outputs": [
    {
     "data": {
      "text/plain": [
       "9"
      ]
     },
     "execution_count": 4,
     "metadata": {},
     "output_type": "execute_result"
    }
   ],
   "source": [
    "len(array)"
   ]
  },
  {
   "cell_type": "code",
   "execution_count": 5,
   "metadata": {},
   "outputs": [
    {
     "name": "stdout",
     "output_type": "stream",
     "text": [
      "9\n",
      "9\n",
      "9\n",
      "9\n",
      "9\n",
      "9\n",
      "9\n",
      "9\n",
      "9\n"
     ]
    }
   ],
   "source": [
    "for i in range(len(array)):\n",
    "    print(len(array[i]))"
   ]
  },
  {
   "cell_type": "code",
   "execution_count": 81,
   "metadata": {},
   "outputs": [],
   "source": [
    "a = np.matrix(array)"
   ]
  },
  {
   "cell_type": "code",
   "execution_count": 82,
   "metadata": {},
   "outputs": [
    {
     "name": "stdout",
     "output_type": "stream",
     "text": [
      "[[8 4 7 0 0 6 0 1 9]\n",
      " [1 6 9 4 2 7 0 5 8]\n",
      " [0 0 0 9 0 0 0 4 0]\n",
      " [0 0 0 0 5 9 7 0 6]\n",
      " [2 0 6 3 4 8 0 9 5]\n",
      " [9 0 0 7 6 0 0 8 0]\n",
      " [6 0 8 2 0 3 0 7 0]\n",
      " [0 2 0 0 0 0 8 3 1]\n",
      " [4 1 3 0 0 5 0 6 2]]\n"
     ]
    }
   ],
   "source": [
    "print(a)"
   ]
  },
  {
   "cell_type": "code",
   "execution_count": 83,
   "metadata": {},
   "outputs": [
    {
     "name": "stdout",
     "output_type": "stream",
     "text": [
      "4\n"
     ]
    }
   ],
   "source": [
    "print(a[1,3])[8 4 7 0 0 6 0 1 9]"
   ]
  },
  {
   "cell_type": "code",
   "execution_count": 94,
   "metadata": {},
   "outputs": [
    {
     "data": {
      "text/plain": [
       "81"
      ]
     },
     "execution_count": 94,
     "metadata": {},
     "output_type": "execute_result"
    }
   ],
   "source": [
    "a.size"
   ]
  },
  {
   "cell_type": "code",
   "execution_count": 91,
   "metadata": {},
   "outputs": [],
   "source": [
    "def find(matrix):\n",
    "    \"\"\"\n",
    "    this function is used to find an empty square in the sudoku grid.\n",
    "    \"\"\"\n",
    "    isFound = False\n",
    "    for row in range(len(matrix)): #iterates through the rows of the matrix\n",
    "        for col in range(len(matrix)): #iterates through the cols of the matrix\n",
    "            if isFound == True: # once the function find first instance of an empty square, it will exit the loop\n",
    "                break\n",
    "            elif matrix[row,col] == 0: # If the element in the matrix is zero(blank in sudoku) return true\n",
    "                print(matrix[row,col], \"[\",row,\",\",col,\"]\")\n",
    "                isFound = True\n",
    "        \n"
   ]
  },
  {
   "cell_type": "code",
   "execution_count": 92,
   "metadata": {},
   "outputs": [
    {
     "name": "stdout",
     "output_type": "stream",
     "text": [
      "0 [ 0 , 3 ]\n"
     ]
    }
   ],
   "source": [
    "find(a)"
   ]
  },
  {
   "cell_type": "code",
   "execution_count": 88,
   "metadata": {},
   "outputs": [],
   "source": [
    "def replace(matrix,x,y,n):\n",
    "    \"\"\"\n",
    "    this function takes matrix grid, goes to pos (x,y) \n",
    "    and check if integer n can be placed int the square by scanning row, \n",
    "    then coloumn then sub square(3x3 matrix)\n",
    "    \"\"\"\n",
    "    "
   ]
  },
  {
   "cell_type": "code",
   "execution_count": 89,
   "metadata": {},
   "outputs": [],
   "source": [
    "def solve(matrix):\n",
    "    return false"
   ]
  },
  {
   "cell_type": "code",
   "execution_count": 90,
   "metadata": {},
   "outputs": [
    {
     "name": "stdout",
     "output_type": "stream",
     "text": [
      "not found\n",
      "not found\n",
      "not found\n",
      "found it\n"
     ]
    }
   ],
   "source": [
    "test = [1,2,3,4,5,6,7]\n",
    "for i in range(len(test)):\n",
    "    if test[i] == 4:\n",
    "        print(\"found it\")\n",
    "        break\n",
    "    else:\n",
    "        print(\"not found\")"
   ]
  },
  {
   "cell_type": "code",
   "execution_count": null,
   "metadata": {},
   "outputs": [],
   "source": []
  }
 ],
 "metadata": {
  "kernelspec": {
   "display_name": "Python 3",
   "language": "python",
   "name": "python3"
  },
  "language_info": {
   "codemirror_mode": {
    "name": "ipython",
    "version": 3
   },
   "file_extension": ".py",
   "mimetype": "text/x-python",
   "name": "python",
   "nbconvert_exporter": "python",
   "pygments_lexer": "ipython3",
   "version": "3.7.4"
  }
 },
 "nbformat": 4,
 "nbformat_minor": 2
}
